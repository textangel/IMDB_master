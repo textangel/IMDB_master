{
 "cells": [
  {
   "cell_type": "markdown",
   "metadata": {},
   "source": [
    "## 3. Actors PageRank And Network Analysis"
   ]
  },
  {
   "cell_type": "markdown",
   "metadata": {},
   "source": [
    "This file implements the Google PageRank algorithm on the acting network as defined by actors that co-star in the lead, second, or third supporting roles of any film. Google PageRank is a modification of Katz (eigenvector) centrality, that measures how central a node is to a network based on the number of random walks that must pass through it. \n",
    "\n",
    "We weight edges by various factors when calculating the PageRank."
   ]
  },
  {
   "cell_type": "code",
   "execution_count": 112,
   "metadata": {},
   "outputs": [],
   "source": [
    "import pandas as pd\n",
    "import datetime as dt\n",
    "import numpy as np\n",
    "import math\n",
    "import matplotlib.pyplot as plt\n",
    "from collections import Counter\n",
    "from collections import OrderedDict\n",
    "warnings.filterwarnings(action='ignore')"
   ]
  },
  {
   "cell_type": "code",
   "execution_count": 113,
   "metadata": {},
   "outputs": [],
   "source": [
    "data_path = \"data/\"\n",
    "m = pd.read_csv(data_path + \"movies_postprocessing.csv\")\n",
    "entities = {}\n",
    "for col in [\"genres\", \"keywords\",\"plot_keywords\",\"all_keywords\" ,\"production_companies\", \"production_countries\", \"spoken_languages\"]:\n",
    "    m[col] = pd.Series(ast.literal_eval(b) for b in m[col])\n",
    "actors_ = m[[\"actor_1_name\",\"actor_2_name\",\"actor_3_name\", \"budget\", \"profit\", \"revenue\",'popularity']]"
   ]
  },
  {
   "cell_type": "markdown",
   "metadata": {},
   "source": [
    "## Implementation of PageRank Algorithm"
   ]
  },
  {
   "cell_type": "code",
   "execution_count": 223,
   "metadata": {},
   "outputs": [],
   "source": [
    "def get_all_actors(actors):\n",
    "    actors_ = actors[[\"actor_1_name\",\"actor_2_name\",\"actor_3_name\"]]\n",
    "    return list(set([a for b in actors_.values.tolist() for a in b]))\n",
    "\n",
    "def build_adjacency_matrix(actors, criteria = None):\n",
    "    actors_dict = get_all_actors(actors)\n",
    "    actors_dict = {a:i for i,a in enumerate(actors_dict)}\n",
    "    size = len(actors_dict)\n",
    "    A = np.full((size, size), 0.0)\n",
    "    \n",
    "    for i, edge in actors.iterrows():\n",
    "        pr_val = edge[criteria] if criteria in edge else 1\n",
    "        actors_ = edge[\"actor_1_name\"], edge[\"actor_2_name\"], edge[\"actor_3_name\"]\n",
    "        for x in actors_:\n",
    "            for y in actors_:\n",
    "                if x != y:\n",
    "                    A[actors_dict[x], actors_dict[y]] += pr_val\n",
    "    return actors_dict, A\n",
    "\n",
    "\n",
    "def build_transition_matrix(A):\n",
    "    s = np.sum(A, axis = 1)\n",
    "    s[s == 0] = 1\n",
    "    M = A / s[None,:]\n",
    "    return M\n",
    "\n",
    "\n",
    "def pagerank(M, eps=1e-3, d=0.85):\n",
    "    N = M.shape[1]\n",
    "    v = np.random.rand(N,1)\n",
    "    v = v / np.linalg.norm(v,1)\n",
    "    last_v = np.ones((N,1), dtype=np.float32) * 100\n",
    "\n",
    "    while np.linalg.norm(v-last_v, 2) > eps:\n",
    "        last_v = v\n",
    "        v = d * np.matmul(M,v) + (1-d) / N\n",
    "        print(\"norm {}\".format(np.linalg.norm(v-last_v, 2)))\n",
    "    return v\n",
    "\n",
    "\n",
    "def get_pagerank(criteria=None):\n",
    "    actors_dict, A = build_adjacency_matrix(m, criteria=criteria)\n",
    "    M = build_transition_matrix(A)\n",
    "    v = pagerank(M)\n",
    "    temp = {k:list(v)[ix][0] for k,ix in actors_dict.items()}\n",
    "    pagerank_nodes = sorted(temp, key=temp.get, reverse=True)\n",
    "    page_rank = {key: rank for rank, key in enumerate(pagerank_nodes, 1)}\n",
    "    pagerank_val = temp\n",
    "    return page_rank, pagerank_nodes, pagerank_val\n"
   ]
  },
  {
   "cell_type": "code",
   "execution_count": 228,
   "metadata": {},
   "outputs": [
    {
     "name": "stdout",
     "output_type": "stream",
     "text": [
      "norm 0.0189617154619\n",
      "norm 0.00608246035292\n",
      "norm 0.00233631462289\n",
      "norm 0.00107844543387\n",
      "norm 0.000520839772782\n"
     ]
    },
    {
     "data": {
      "text/plain": [
       "[('Robert De Niro', 0.0031422870147596147),\n",
       " ('Morgan Freeman', 0.003083140870185692),\n",
       " ('Matt Damon', 0.002733919418055917),\n",
       " ('Bruce Willis', 0.0026212259112237796),\n",
       " ('Johnny Depp', 0.002359116032360327),\n",
       " ('Liam Neeson', 0.002283090710913995),\n",
       " ('Denzel Washington', 0.0022365198731424418),\n",
       " ('Tom Hanks', 0.0022336919058720105),\n",
       " ('Nicolas Cage', 0.0022331866362385574),\n",
       " ('Brad Pitt', 0.002218437145573223),\n",
       " ('Bill Murray', 0.0021334889836587705),\n",
       " ('Steve Buscemi', 0.002107301352486852),\n",
       " ('Tom Cruise', 0.0020781124778054),\n",
       " ('Will Ferrell', 0.0020715098658035374),\n",
       " ('Harrison Ford', 0.0019881745249752374)]"
      ]
     },
     "execution_count": 228,
     "metadata": {},
     "output_type": "execute_result"
    }
   ],
   "source": [
    "page_rank, pagerank_nodes, pagerank_val = get_pagerank()\n",
    "sorted(pagerank_val.items(), key=lambda kv: kv[1], reverse=True)[:15]"
   ]
  },
  {
   "cell_type": "code",
   "execution_count": 225,
   "metadata": {},
   "outputs": [
    {
     "name": "stdout",
     "output_type": "stream",
     "text": [
      "norm 0.0190811214447\n",
      "norm 0.00607211769742\n",
      "norm 0.00236951540937\n",
      "norm 0.00109970433603\n",
      "norm 0.000539961581558\n"
     ]
    },
    {
     "data": {
      "text/plain": [
       "[('Morgan Freeman', 0.0032294475612127354),\n",
       " ('Robert De Niro', 0.003210103033728647),\n",
       " ('Matt Damon', 0.002906367810935474),\n",
       " ('Bruce Willis', 0.002632095318093047),\n",
       " ('Johnny Depp', 0.0024491396756034524),\n",
       " ('Denzel Washington', 0.0024109586152144522),\n",
       " ('Tom Hanks', 0.002410454054772374),\n",
       " ('Brad Pitt', 0.0023725438368700094),\n",
       " ('Bill Murray', 0.002307930654999723),\n",
       " ('Liam Neeson', 0.0022619312271243137),\n",
       " ('Nicolas Cage', 0.002250077157331331),\n",
       " ('Tom Cruise', 0.0022279635077519823),\n",
       " ('Steve Buscemi', 0.002131461484867716),\n",
       " ('Will Ferrell', 0.0020805505843765598),\n",
       " ('Harrison Ford', 0.00206901250495735)]"
      ]
     },
     "execution_count": 225,
     "metadata": {},
     "output_type": "execute_result"
    }
   ],
   "source": [
    "page_rank, pagerank_nodes, pagerank_val = get_pagerank(\"imdb_score\")\n",
    "sorted(pagerank_val.items(), key=lambda kv: kv[1], reverse=True)[:15]"
   ]
  },
  {
   "cell_type": "code",
   "execution_count": 226,
   "metadata": {},
   "outputs": [
    {
     "name": "stdout",
     "output_type": "stream",
     "text": [
      "norm 0.020221264724\n",
      "norm 0.00777470635143\n",
      "norm 0.00317325703028\n",
      "norm 0.00164483969442\n",
      "norm 0.000910173364141\n"
     ]
    },
    {
     "data": {
      "text/plain": [
       "[('Tom Cruise', 0.004341426370967094),\n",
       " ('Tom Hanks', 0.004165160425084343),\n",
       " ('Morgan Freeman', 0.004108375137132653),\n",
       " ('Will Smith', 0.0034673826784268743),\n",
       " ('Bruce Willis', 0.003254595768294114),\n",
       " ('Scarlett Johansson', 0.003147459413866304),\n",
       " ('Robert Downey Jr.', 0.003143313298539969),\n",
       " ('Matt Damon', 0.0031075747175251384),\n",
       " ('Brad Pitt', 0.0030365232977737047),\n",
       " ('Leonardo DiCaprio', 0.0030024422967819997),\n",
       " ('Liam Neeson', 0.0028729335269277487),\n",
       " ('Johnny Depp', 0.0028162253045744753),\n",
       " ('Nicolas Cage', 0.0026939525818893526),\n",
       " ('Angelina Jolie Pitt', 0.00268623555690746),\n",
       " ('Harrison Ford', 0.0026641722244962586)]"
      ]
     },
     "execution_count": 226,
     "metadata": {},
     "output_type": "execute_result"
    }
   ],
   "source": [
    "page_rank, pagerank_nodes, pagerank_val = get_pagerank(\"revenue\")\n",
    "sorted(pagerank_val.items(), key=lambda kv: kv[1], reverse=True)[:15]"
   ]
  },
  {
   "cell_type": "code",
   "execution_count": 227,
   "metadata": {},
   "outputs": [
    {
     "name": "stdout",
     "output_type": "stream",
     "text": [
      "norm 0.0197920999876\n",
      "norm 0.0069743179607\n",
      "norm 0.00281714390562\n",
      "norm 0.00142357814082\n",
      "norm 0.000758515526327\n"
     ]
    },
    {
     "data": {
      "text/plain": [
       "[('Morgan Freeman', 0.003981593282823947),\n",
       " ('Johnny Depp', 0.0035572241967924997),\n",
       " ('Bruce Willis', 0.003316312176596024),\n",
       " ('Tom Cruise', 0.003207117764316171),\n",
       " ('Matt Damon', 0.0031817304875636407),\n",
       " ('Nicolas Cage', 0.003162170470562861),\n",
       " ('Tom Hanks', 0.0031423294243716014),\n",
       " ('Brad Pitt', 0.003006578301481497),\n",
       " ('Will Smith', 0.002956845230077237),\n",
       " ('Steve Buscemi', 0.0028427485537773855),\n",
       " ('Robert De Niro', 0.0028033649697696873),\n",
       " ('Liam Neeson', 0.0027350555005992688),\n",
       " ('Angelina Jolie Pitt', 0.0026999148776034394),\n",
       " ('Denzel Washington', 0.0026907162164370125),\n",
       " ('Sylvester Stallone', 0.002677860920294705)]"
      ]
     },
     "execution_count": 227,
     "metadata": {},
     "output_type": "execute_result"
    }
   ],
   "source": [
    "page_rank, pagerank_nodes, pagerank_val = get_pagerank(\"budget\")\n",
    "sorted(pagerank_val.items(), key=lambda kv: kv[1], reverse=True)[:15]"
   ]
  },
  {
   "cell_type": "markdown",
   "metadata": {},
   "source": [
    "## Building an Edge List of Actors"
   ]
  },
  {
   "cell_type": "markdown",
   "metadata": {},
   "source": [
    "This is used to graph the network on Gephi."
   ]
  },
  {
   "cell_type": "code",
   "execution_count": 191,
   "metadata": {},
   "outputs": [],
   "source": [
    "def build_actors_edge_list(actors):\n",
    "    actors_edge_list = []\n",
    "    actors_dict = get_all_actors(actors)\n",
    "    actors_dict = {a:i for i,a in enumerate(actors_dict)}\n",
    "    size = len(actors_dict)\n",
    "    A = np.full((size, size), 0)\n",
    "    for i, edge in actors.iterrows():\n",
    "        actors = edge[\"actor_1_name\"], edge[\"actor_2_name\"], edge[\"actor_3_name\"]\n",
    "        for ix in range(len(actors)):\n",
    "            for j in range(ix,len(actors)):\n",
    "                x,y = actors[ix], actors[j]\n",
    "                actors_edge_list += [[x,y,edge[\"revenue\"],edge[\"budget\"], edge[\"popularity\"], edge[\"imdb_score\"], 1]]\n",
    "    actors_edge_list = pd.DataFrame(actors_edge_list, columns=[\"Source\", \"Target\", \"revenue\",\"budget\",\"popularity\", \"imdb_score\", \"count\"])\n",
    "    edge_list = edge_list.groupby([\"Source\", \"Target\"]).sum()\n",
    "    return actors_edge_list\n",
    "\n",
    "edge_list = build_actors_edge_list(m)\n",
    "edge_list.to_csv(data_path+\"actors_edge_list.csv\")"
   ]
  }
 ],
 "metadata": {
  "kernelspec": {
   "display_name": "Python 3",
   "language": "python",
   "name": "python3"
  },
  "language_info": {
   "codemirror_mode": {
    "name": "ipython",
    "version": 3
   },
   "file_extension": ".py",
   "mimetype": "text/x-python",
   "name": "python",
   "nbconvert_exporter": "python",
   "pygments_lexer": "ipython3",
   "version": "3.7.6"
  }
 },
 "nbformat": 4,
 "nbformat_minor": 4
}
