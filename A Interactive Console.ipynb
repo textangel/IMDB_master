{
 "cells": [
  {
   "cell_type": "markdown",
   "metadata": {},
   "source": [
    "# Appendix: An Interactive Console to Generate Movies Fulfilling Certain Requirements\n",
    "Suppose you are a director, and you want to make a movie that fulfills certain genre, budget, and profit requirements. \n",
    "This small console performs lookup to find a movie that fulfills your requirements. \n",
    "\n",
    "I eventually hope to add a predictive element (so that one can predict a movie's profits based on self-generated features and using models trained in previous sections.)"
   ]
  },
  {
   "cell_type": "code",
   "execution_count": 75,
   "metadata": {},
   "outputs": [],
   "source": [
    "import pandas as pd\n",
    "import datetime as dt\n",
    "import ast\n",
    "import numpy as np\n",
    "import math\n",
    "import seaborn as sns\n",
    "from sklearn.preprocessing import MultiLabelBinarizer\n",
    "import matplotlib.pyplot as plt\n",
    "from collections import Counter\n",
    "import warnings\n",
    "warnings.filterwarnings(action='ignore')"
   ]
  },
  {
   "cell_type": "code",
   "execution_count": 76,
   "metadata": {},
   "outputs": [],
   "source": [
    "data_path = \"data/\"\n",
    "m = pd.read_csv(data_path + \"movies_postprocessing.csv\")\n",
    "entities = {}\n",
    "for col in [\"genres\", \"keywords\",\"plot_keywords\",\"all_keywords\" ,\"production_companies\", \"production_countries\", \"spoken_languages\"]:\n",
    "    m[col] = pd.Series(ast.literal_eval(b) for b in m[col])\n",
    "genres = ['Mystery', 'Romance', 'History', 'Family', 'Science Fiction', 'Horror', 'Crime', 'Drama', 'Fantasy', 'Animation', 'Music', 'Adventure', 'Foreign', 'Action', 'TV Movie', 'Comedy', 'Documentary', 'War', 'Thriller', 'Western']"
   ]
  },
  {
   "cell_type": "markdown",
   "metadata": {},
   "source": [
    "### Interactive Console/ Movie Generator"
   ]
  },
  {
   "cell_type": "code",
   "execution_count": 77,
   "metadata": {},
   "outputs": [],
   "source": [
    "\n",
    "def isfloat(value):\n",
    "  try:\n",
    "    float(value)\n",
    "    return True\n",
    "  except ValueError:\n",
    "    return False\n",
    "\n",
    "\n",
    "def get_closest_to_median(subset_, target, q_tile):\n",
    "    subset_[\"diff_med\"] = abs(subset_[target] - subset_[target].quantile(q_tile))\n",
    "    return subset_.loc[subset_[\"diff_med\"].idxmin()]\n",
    "    "
   ]
  },
  {
   "cell_type": "code",
   "execution_count": 78,
   "metadata": {},
   "outputs": [],
   "source": [
    "def run_console():\n",
    "    perc = \"default\"\n",
    "    allowed_genres = [a for a in genres if a not in  ['Documentary', 'Foreign']]\n",
    "    allowed_targets = ['popularity', 'vote_average', 'imdb_score','movie_facebook_likes', 'profit']\n",
    "    budget = 0\n",
    "    genre = \"\"\n",
    "    bl,bh = 0,0\n",
    "    done = False\n",
    "\n",
    "    while not done:\n",
    "        genre = raw_input(\"\\n Tell me your genre {}: \".format(str(allowed_genres)))\n",
    "        if genre == \"quit\": done = True; break;\n",
    "        if genre in allowed_genres: break\n",
    "        print(\"Sorry, try again.\")\n",
    "    subset = m[m.genres.apply(lambda x: genre in x)]\n",
    "\n",
    "    while not done:\n",
    "        target = raw_input(\"\\n Tell me what you're optimizing for {}: \\n \\\n",
    "                             You can also add a percentile (0-100) after the category \\n \\\n",
    "                           following the example 'profit 65' and we'll get you the film\\n \\\n",
    "                           closest to that percentile for the target.\\n \\\n",
    "                           Otherwise we'll serve you the default - the median!\\n \\\n",
    "                           Please follow the format (lowercase and one space!)\"\n",
    "                           .format(str(allowed_targets)))   \n",
    "        if target == \"quit\": done = True; break;\n",
    "        target_ = target.strip().split(\" \")\n",
    "        target_ = [a for a in target_ if len(a) > 0]\n",
    "        target = target_[0]\n",
    "        perc = \"default\"\n",
    "        print(target_)\n",
    "        if len(target_) > 1:\n",
    "            perc = target_[1]\n",
    "        perc = 50 if not isfloat(perc) else float(perc)\n",
    "        if not (perc > 0 and perc < 100): perc = 50\n",
    "        perc = perc / 100.0\n",
    "        if target in allowed_targets: break\n",
    "        print(\"Sorry, try again.\")\n",
    "\n",
    "    while not done:\n",
    "        repeat = False\n",
    "        budget = raw_input(\"\\n Tell me your budget [Range: 1e5 - 1e9, 10-90% percentiles for your genre are {0:.2e} to {1:.2e}]: \\n \\\n",
    "                       You can also give a percentile range (0-100), in which case we will interpret it as a percentile.\\n \\\n",
    "                       Either give one value or two; if you give two numbers we will interpret that \\n \\\n",
    "                       as your full budget/percentile range, or if you give one, we will give you movies  \\n \\\n",
    "                       close to that budget, if any exist. Finally, leave empty to get values over all movies. \\n \\\n",
    "                       Please follow the format (one number or two numbers separated by one space!)\"\n",
    "                       .format(np.percentile(subset[\"budget\"], 10), np.percentile(subset[\"budget\"], 90)))  \n",
    "        if budget == \"quit\": done = True; break;\n",
    "\n",
    "        budget_ = budget.strip().split(\" \")\n",
    "        budget_ = [a for a in budget_ if len(a) > 0]\n",
    "        if len(budget_) == 0:\n",
    "            bl,bh = -1000, 100000000000\n",
    "        elif len(budget_) == 1 and isfloat(budget_[0]):\n",
    "            budget = float(budget_[0])\n",
    "            if budget >0 and budget < 100:\n",
    "                budget = np.percentile(subset[\"budget\"], budget)\n",
    "            if budget > np.min(subset[\"budget\"]) and budget < np.max(subset[\"budget\"]):\n",
    "                bl,bh = budget/math.sqrt(10), budget*math.sqrt(10)\n",
    "            else:\n",
    "                repeat = True\n",
    "        elif len(budget_)> 1 and isfloat(budget_[0]) and isfloat(budget_[1]) \\\n",
    "                                                and float(budget_[0]) < float(budget_[1]):\n",
    "            bl,br = float(budget_[0]), float(budget_[1])\n",
    "            if bl >0 and bl < 100: bl = np.percentile(subset[\"budget\"], bl)\n",
    "            if br >0 and br < 100: br = np.percentile(subset[\"budget\"], br)\n",
    "            if (bl > np.min(subset[\"budget\"]) and bl < np.max(subset[\"budget\"])) and \\\n",
    "            (br > np.min(subset[\"budget\"]) and br < np.max(subset[\"budget\"])) and bl < br:\n",
    "                bl, bh = bl, br\n",
    "            else: repeat = True\n",
    "        else: \n",
    "            repeat = True\n",
    "\n",
    "        if not repeat:\n",
    "            subset_ = subset[(subset.budget > bl) & (subset.budget < bh) & (subset[target].notnull())]\n",
    "            if len(subset)==0:\n",
    "                print(\"Please pick another budget range. Unfortuantely, there were too few films in your selected genre with your budget range!\\n\")\n",
    "                repeat= True\n",
    "            else:\n",
    "                s_med = get_closest_to_median(subset_, target, perc)\n",
    "            if not repeat:\n",
    "                break\n",
    "\n",
    "        if not (budget > 1e5 and budget < 1e9): \n",
    "            print(\"Sorry, try again [Range: 1e5 - 1e9]\")\n",
    "        else:\n",
    "            print(\"Something was wrong with your input. Please try again.\")\n",
    "\n",
    "\n",
    "    if not done:\n",
    "    #     subset_ = subset[(subset.budget > bl) & (subset.budget < bh)]\n",
    "    #     s_med = get_closest_to_median(subset_, target, perc)\n",
    "    #     if len(s_med) == 0:\n",
    "    #         bl,bh = budget/math.sqrt(100), budget*math.sqrt(100)\n",
    "    #         subset_ = subset[(subset.budget > bl) & (subset.budget < bh)]\n",
    "    #         s_med = get_closest_to_median(subset_, target, perc) #subset_[subset_[target]==subset_.median()[target]]\n",
    "    #     if len(s_med) == 0:\n",
    "    #         bl,bh = budget/math.sqrt(1000), budget*math.sqrt(1000)\n",
    "    #         subset_ = subset[(subset.budget > bl) & (subset.budget < bh)]\n",
    "    #         s_med = get_closest_to_median(subset_, target, perc) #subset_[subset_[target]==subset_.median()[target]]\n",
    "    #     if len(s_med) == 0:\n",
    "    #         print(\"Sorry, there were no films close to your budget range! Here is a reference film in your genre:\\n\")\n",
    "    #         subset_ = subset\n",
    "    #         s_med = get_closest_to_median(subset_, target, perc) #subset_[subset_[target]==subset_.median()[target]]\n",
    "\n",
    "        s = s_med\n",
    "        actors_list = [a for a in [s['actor_1_name'], s['actor_2_name'], s['actor_3_name']] if a is not None]\n",
    "\n",
    "        print(\"\\n\\n\\n\"+\n",
    "             \"Your reference film is: {}\\n\".format(s[\"original_title\"]) +\n",
    "            \"{} \\n\".format(s['overview']) +\n",
    "            \"\\n\" +\n",
    "            \"This film is a {} film from {},\\n\".format(int(s['title_year']),s['country']) +\n",
    "            \"has genres: {}\\n\".format(str(s['genres'])[1:-1]) +\n",
    "            \"and has budget {}.\\n\".format(s['budget']) +\n",
    "            \"It was directed by {} \\n\".format(s['director_name']) +\n",
    "            \"and stars {}. \\n\".format(str(actors_list)[1:-1]) +\n",
    "            \"\\n\" +\n",
    "            \"It's keywords are: {} \\n\".format(str(s['all_keywords'])[1:-1]) +\n",
    "            \"and it was produced by: {}.\\n\".format(str(s['production_companies'])[1:-1]) +\n",
    "            \"It's scores are: \\n\" +\n",
    "            \"    popularity: {}, vote_average: {},\".format(s['popularity'],s['vote_average']) +\n",
    "            \"    imdb_score: {}, movie_facebook_likes: {}, profit: {} \\n\".format(s['imdb_score'],s['movie_facebook_likes'],s['profit']) +\n",
    "            \"    a value close to the {} percentile for your target {} value {} \\n\".format(int(perc*100), target,s[target]) +\n",
    "            \"for movies in your budget range: {0:.2e} to {1:.2e}\".format(bl, bh)                                               \n",
    "        )"
   ]
  },
  {
   "cell_type": "code",
   "execution_count": 79,
   "metadata": {},
   "outputs": [
    {
     "name": "stdin",
     "output_type": "stream",
     "text": [
      "\n",
      " Tell me your genre ['Mystery', 'Romance', 'History', 'Family', 'Science Fiction', 'Horror', 'Crime', 'Drama', 'Fantasy', 'Animation', 'Music', 'Adventure', 'Action', 'TV Movie', 'Comedy', 'War', 'Thriller', 'Western']:  Music\n",
      "\n",
      " Tell me what you're optimizing for ['popularity', 'vote_average', 'imdb_score', 'movie_facebook_likes', 'profit']: \n",
      "                              You can also add a percentile (0-100) after the category \n",
      "                            following the example 'profit 65' and we'll get you the film\n",
      "                            closest to that percentile for the target.\n",
      "                            Otherwise we'll serve you the default - the median!\n",
      "                            Please follow the format (lowercase and one space!) vote_average\n"
     ]
    },
    {
     "name": "stdout",
     "output_type": "stream",
     "text": [
      "['vote_average']\n"
     ]
    },
    {
     "name": "stdin",
     "output_type": "stream",
     "text": [
      "\n",
      " Tell me your budget [Range: 1e5 - 1e9, 10-90% percentiles for your genre are 3.98e+06 to 6.00e+07]: \n",
      "                        You can also give a percentile range (0-100), in which case we will interpret it as a percentile.\n",
      "                        Either give one value or two; if you give two numbers we will interpret that \n",
      "                        as your full budget/percentile range, or if you give one, we will give you movies  \n",
      "                        close to that budget, if any exist. Finally, leave empty to get values over all movies. \n",
      "                        Please follow the format (one number or two numbers separated by one space!) 60\n"
     ]
    },
    {
     "name": "stdout",
     "output_type": "stream",
     "text": [
      "\n",
      "\n",
      "\n",
      "Your reference film is: Hairspray\n",
      "Pleasantly plump teenager, Tracy Turnblad and her best friend, Penny Pingleton audition to be on The Corny Collins Show – and Tracy wins. But when scheming Amber Von Tussle and her mother plot to destroy Tracy, it turns to chaos. \n",
      "\n",
      "This film is a 2007 film from USA,\n",
      "has genres: 'Family', 'Comedy', 'Music', 'Romance'\n",
      "and has budget 50000000.\n",
      "It was directed by Adam Shankman \n",
      "and stars 'Jerry Stiller', 'Elijah Kelley', 'Paul Dooley'. \n",
      "\n",
      "It's keywords are: 'dance', '1960s', 'integration', 'tv show', 'music', 'performance', 'friend', 'best friend', 'based on film', 'duel', 'coloured', 'overweight woman', 'audition', 'tv dance show', 'school party', 'television', 'equality', 'based on stage musical', 'race politics', 'xenophobia', 'races', 'dream' \n",
      "and it was produced by: 'New Line Cinema', 'Ingenious Film Partners', 'Offspring Entertainment', 'Zadan / Meron Productions'.\n",
      "It's scores are: \n",
      "    popularity: 31.160542, vote_average: 6.5,    imdb_score: 6.7, movie_facebook_likes: 0, profit: 40450008 \n",
      "    a value close to the 50 percentile for your target vote_average value 6.5 \n",
      "for movies in your budget range: 7.72e+06 to 7.72e+07\n"
     ]
    }
   ],
   "source": [
    "run_console()"
   ]
  },
  {
   "cell_type": "code",
   "execution_count": null,
   "metadata": {},
   "outputs": [],
   "source": []
  }
 ],
 "metadata": {
  "kernelspec": {
   "display_name": "Python 3",
   "language": "python",
   "name": "python3"
  },
  "language_info": {
   "codemirror_mode": {
    "name": "ipython",
    "version": 3
   },
   "file_extension": ".py",
   "mimetype": "text/x-python",
   "name": "python",
   "nbconvert_exporter": "python",
   "pygments_lexer": "ipython3",
   "version": "3.7.6"
  }
 },
 "nbformat": 4,
 "nbformat_minor": 4
}
